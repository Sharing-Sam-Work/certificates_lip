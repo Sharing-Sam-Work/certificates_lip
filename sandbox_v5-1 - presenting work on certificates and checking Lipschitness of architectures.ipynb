{
 "cells": [
  {
   "cell_type": "markdown",
   "id": "ea52ec08-8d5f-4952-9759-156ce52aee08",
   "metadata": {},
   "source": [
    "### Goal"
   ]
  },
  {
   "cell_type": "markdown",
   "id": "246b661e-6b56-4add-ab4c-025b45d7a34a",
   "metadata": {},
   "source": [
    "The goal of this notebook is to present the work done in the context of building a set of functions for calculating certificates and checking the Lipschitness of architectures.\n",
    "\n",
    "It can be used as a base for further discussion (evaluation of usefulness of the functions, suggestions of improvements, etc...).\n",
    "\n",
    "Following comments, this is a new iteration.\n",
    "\n",
    "##### Pending work\n",
    "\n",
    "A last comment needs to be taken into account:\n",
    "\n",
    "> Showing the formula and pointing to the proper reference for the certificate formula, both in a binary and in a multi-classification setting.\n",
    "\n",
    "\n",
    "An anomaly also bothers me: the BadLispchitzLayer exception is not caught (see section 'A layer is not Lispchtiz-continuous')"
   ]
  },
  {
   "cell_type": "markdown",
   "id": "096dc40f-3e60-410b-8574-731ead0a9d2e",
   "metadata": {},
   "source": [
    "### Importing"
   ]
  },
  {
   "cell_type": "code",
   "execution_count": 1,
   "id": "1f10805c-cf37-4353-ab29-73d639d390e7",
   "metadata": {},
   "outputs": [],
   "source": [
    "import tensorflow as tf\n",
    "from tensorflow import keras\n",
    "from tensorflow.keras import layers\n",
    "from tensorflow.keras.optimizers import Adam\n",
    "from tensorflow.keras.layers import Input, Flatten\n",
    "import numpy as np\n",
    "import logging\n",
    "import deel\n",
    "from deel import lip\n",
    "from tensorflow.keras.datasets import mnist\n",
    "from tensorflow.keras.utils import to_categorical\n",
    "# import sys\n",
    "# sys.path.append('C:/Users/kierszbaums/sandbox/deel_lip/certificates/custom_libraries/')\n",
    "from certificates_v6 import *"
   ]
  },
  {
   "cell_type": "code",
   "execution_count": 2,
   "id": "dd423c90-cecc-4cb3-aae1-c905e9bcd44c",
   "metadata": {},
   "outputs": [],
   "source": [
    "def fit_1_epoch_and_get_cert_test_dataset(model, X_train, y_train, X_test, y_test):\n",
    "    result=model.fit(\n",
    "        X_train,\n",
    "        y_train,\n",
    "        batch_size=256,\n",
    "        epochs=1,\n",
    "        validation_data=(X_test, y_test),\n",
    "        shuffle=True,\n",
    "        verbose=0,\n",
    "    )\n",
    "\n",
    "    cert=get_certificate(model, X_test)\n",
    "\n",
    "    return cert"
   ]
  },
  {
   "cell_type": "code",
   "execution_count": 3,
   "id": "2117442e-8f46-47c0-a623-e68a428dad3f",
   "metadata": {},
   "outputs": [],
   "source": [
    "epochs=5"
   ]
  },
  {
   "cell_type": "markdown",
   "id": "f73d18ff-12a4-4935-8a86-7238686d4ac9",
   "metadata": {},
   "source": [
    "### Setting the seed (for reproducibility)"
   ]
  },
  {
   "cell_type": "code",
   "execution_count": 4,
   "id": "00e71d7f-7f79-490f-a031-bc979a6945ea",
   "metadata": {},
   "outputs": [],
   "source": [
    "seed_value = 42  # You can choose any seed value\n",
    "np.random.seed(seed_value)\n",
    "tf.random.set_seed(seed_value)\n",
    "keras.utils.set_random_seed(seed_value)"
   ]
  },
  {
   "cell_type": "markdown",
   "id": "0286571d-17f6-40b8-ae08-561f2798eff5",
   "metadata": {},
   "source": [
    "### Calculating a certificate in-between training epochs"
   ]
  },
  {
   "cell_type": "markdown",
   "id": "8b6ea9ae-ae5f-4cbe-a5e8-67997c260ac2",
   "metadata": {},
   "source": [
    "#### Multi-classification"
   ]
  },
  {
   "cell_type": "markdown",
   "id": "68256b20-d77c-4255-886c-c055c3867118",
   "metadata": {},
   "source": [
    "We calculate the certificates for the MNIST test dataset after each epoch."
   ]
  },
  {
   "cell_type": "code",
   "execution_count": 5,
   "id": "be129ea2-519d-4289-8fba-323bfc5731c7",
   "metadata": {},
   "outputs": [],
   "source": [
    "# Load MNIST Database\n",
    "(X_train, y_train_ord), (X_test, y_test_ord) = mnist.load_data()\n",
    "\n",
    "# standardize and reshape the data\n",
    "X_train = np.expand_dims(X_train, -1) / 255\n",
    "X_test = np.expand_dims(X_test, -1) / 255\n",
    "\n",
    "# one hot encode the labels\n",
    "y_train = to_categorical(y_train_ord)\n",
    "y_test = to_categorical(y_test_ord)"
   ]
  },
  {
   "cell_type": "code",
   "execution_count": 6,
   "id": "aa86d74c-617f-40c5-a6a7-29bbf24d4ebf",
   "metadata": {},
   "outputs": [],
   "source": [
    "model = lip.Sequential(\n",
    "        [\n",
    "        Input(shape=X_train.shape[1:]),\n",
    "        \n",
    "        lip.layers.SpectralConv2D(\n",
    "                filters=16,\n",
    "                kernel_size=(3, 3),\n",
    "                use_bias=True,\n",
    "                kernel_initializer=\"orthogonal\",\n",
    "            ),\n",
    "\n",
    "        lip.layers.GroupSort2(),\n",
    "            \n",
    "        lip.layers.ScaledL2NormPooling2D(pool_size=(2, 2), data_format=\"channels_last\"),\n",
    "            \n",
    "        lip.layers.SpectralConv2D(\n",
    "                filters=32,\n",
    "                kernel_size=(3, 3),\n",
    "                use_bias=True,\n",
    "                kernel_initializer=\"orthogonal\",\n",
    "            ),\n",
    "            \n",
    "        lip.layers.GroupSort2(),\n",
    "        \n",
    "        lip.layers.ScaledL2NormPooling2D(pool_size=(2, 2), data_format=\"channels_last\"),\n",
    "        \n",
    "        Flatten(),\n",
    "        \n",
    "        lip.layers.SpectralDense(\n",
    "                64,\n",
    "                use_bias=True,\n",
    "                kernel_initializer=\"orthogonal\",\n",
    "            ),\n",
    "\n",
    "        lip.layers.GroupSort2(),\n",
    "        \n",
    "        lip.layers.SpectralDense(\n",
    "                y_train.shape[-1], \n",
    "                activation=None, \n",
    "                use_bias=False, \n",
    "                kernel_initializer=\"orthogonal\"\n",
    "            ),\n",
    "        ],\n",
    "\n",
    "    )"
   ]
  },
  {
   "cell_type": "code",
   "execution_count": 7,
   "id": "c830801b-dafa-4f5c-84c9-270ef6188f47",
   "metadata": {},
   "outputs": [],
   "source": [
    "temperature=10.\n",
    "\n",
    "model.compile(\n",
    "    loss=lip.losses.TauCategoricalCrossentropy(tau=temperature),\n",
    "    optimizer=Adam(1e-4),\n",
    "    # notice the use of lip.losses.MulticlassKR(), to assess adversarial robustness\n",
    "    metrics=[\"accuracy\", lip.losses.MulticlassKR()],\n",
    ")"
   ]
  },
  {
   "cell_type": "code",
   "execution_count": null,
   "id": "a8374851-9445-4cb6-8eb7-2c3bb022d496",
   "metadata": {},
   "outputs": [
    {
     "name": "stdout",
     "output_type": "stream",
     "text": [
      "313/313 [==============================] - 1s 4ms/step\n",
      "\n",
      "Mean certificate epoch 0\n",
      "0.22376393966438654\n",
      "\n",
      "313/313 [==============================] - 1s 4ms/step\n",
      "\n",
      "Mean certificate epoch 1\n",
      "0.2910311115991848\n",
      "\n",
      "313/313 [==============================] - 1s 4ms/step\n",
      "\n",
      "Mean certificate epoch 2\n",
      "0.32991957323018334\n",
      "\n",
      "313/313 [==============================] - 1s 4ms/step\n",
      "\n",
      "Mean certificate epoch 3\n",
      "0.35404827102177366\n",
      "\n"
     ]
    }
   ],
   "source": [
    "epochs=epochs\n",
    "certs=[]\n",
    "for i in range(epochs):\n",
    "    cert=fit_1_epoch_and_get_cert_test_dataset(model, X_train, y_train, X_test, y_test)\n",
    "    certs.append(cert)\n",
    "\n",
    "    print()\n",
    "    print('Mean certificate epoch '+str(i))\n",
    "    print(np.mean(cert))\n",
    "    print()"
   ]
  },
  {
   "cell_type": "raw",
   "id": "9e06c6a8-b74f-4264-be5a-d3cca5bd7c20",
   "metadata": {},
   "source": [
    "313/313 [==============================] - 1s 3ms/step\n",
    "\n",
    "Mean certificate epoch 0\n",
    "0.22376393966438654\n",
    "\n",
    "313/313 [==============================] - 1s 4ms/step\n",
    "\n",
    "Mean certificate epoch 1\n",
    "0.2910311115991848\n",
    "\n",
    "313/313 [==============================] - 1s 4ms/step\n",
    "\n",
    "Mean certificate epoch 2\n",
    "0.32991957323018334\n",
    "\n",
    "313/313 [==============================] - 1s 4ms/step\n",
    "\n",
    "Mean certificate epoch 3\n",
    "0.35404827102177366\n",
    "\n",
    "313/313 [==============================] - 1s 4ms/step\n",
    "\n",
    "Mean certificate epoch 4\n",
    "0.3717613028311117"
   ]
  },
  {
   "cell_type": "markdown",
   "id": "c4decffc-e4c0-4ff7-8169-e245fbb0623c",
   "metadata": {},
   "source": [
    "We notice that the mean certificate value increases, as expected."
   ]
  },
  {
   "cell_type": "markdown",
   "id": "c26eea7a-6b3a-4dc5-9123-992ef2074e11",
   "metadata": {},
   "source": [
    "#### Binary classification"
   ]
  },
  {
   "cell_type": "markdown",
   "id": "968a27a0-36be-42db-95ca-f64c6ecfe0b7",
   "metadata": {},
   "source": [
    "We calculate the certificates for the MNIST test subdataset (labels 0 and 8) after each epoch."
   ]
  },
  {
   "cell_type": "code",
   "execution_count": null,
   "id": "55f550eb-dda3-4980-8cdf-7d65c6a0b8ba",
   "metadata": {},
   "outputs": [],
   "source": [
    "# first we select the two classes\n",
    "selected_classes = [0, 8]  # must be two classes as we perform binary classification\n",
    "\n",
    "\n",
    "def prepare_data(x, y, class_a=0, class_b=8):\n",
    "    \"\"\"\n",
    "    This function convert the MNIST data to make it suitable for our binary classification\n",
    "    setup.\n",
    "    \"\"\"\n",
    "    # select items from the two selected classes\n",
    "    mask = (y == class_a) + (\n",
    "        y == class_b\n",
    "    )  # mask to select only items from class_a or class_b\n",
    "    x = x[mask]\n",
    "    y = y[mask]\n",
    "    x = x.astype(\"float32\")\n",
    "    y = y.astype(\"float32\")\n",
    "    # convert from range int[0,255] to float32[-1,1]\n",
    "    x /= 255\n",
    "    x = x.reshape((-1, 28, 28, 1))\n",
    "    # change label to binary classification {-1,1}\n",
    "    y[y == class_a] = 1.0\n",
    "    y[y == class_b] = -1.0\n",
    "    return x, y\n",
    "\n",
    "\n",
    "# now we load the dataset\n",
    "(X_train, y_train_ord), (X_test, y_test_ord) = mnist.load_data()\n",
    "\n",
    "# prepare the data\n",
    "X_train, y_train = prepare_data(\n",
    "    X_train, y_train_ord, selected_classes[0], selected_classes[1]\n",
    ")\n",
    "X_test, y_test = prepare_data(\n",
    "    X_test, y_test_ord, selected_classes[0], selected_classes[1]\n",
    ")\n",
    "\n",
    "# display infos about dataset\n",
    "print(\n",
    "    \"train set size: %i samples, classes proportions: %.3f percent\"\n",
    "    % (y_train.shape[0], 100 * y_train[y_train == 1].sum() / y_train.shape[0])\n",
    ")\n",
    "print(\n",
    "    \"test set size: %i samples, classes proportions: %.3f percent\"\n",
    "    % (y_test.shape[0], 100 * y_test[y_test == 1].sum() / y_test.shape[0])\n",
    ")\n"
   ]
  },
  {
   "cell_type": "code",
   "execution_count": null,
   "id": "e5442f76-b622-4ace-9d60-290d09d5f038",
   "metadata": {},
   "outputs": [],
   "source": [
    "inputs = keras.layers.Input(X_train.shape[1:])\n",
    "x = keras.layers.Flatten()(inputs)\n",
    "x = lip.layers.SpectralDense(64)(x)\n",
    "x = lip.layers.GroupSort2()(x)\n",
    "x = lip.layers.SpectralDense(32)(x)\n",
    "x = lip.layers.GroupSort2()(x)\n",
    "y = lip.layers.SpectralDense(1, activation=None)(x)\n",
    "model = lip.model.Model(inputs=inputs, outputs=y)"
   ]
  },
  {
   "cell_type": "code",
   "execution_count": null,
   "id": "c57fe568-025a-4d25-8e16-7d8440b9ed36",
   "metadata": {},
   "outputs": [],
   "source": [
    "temperature=10.\n",
    "\n",
    "model.compile(\n",
    "    loss=lip.losses.TauCategoricalCrossentropy(tau=temperature),\n",
    "    optimizer=Adam(1e-4),\n",
    "    # notice the use of lip.losses.MulticlassKR(), to assess adversarial robustness\n",
    "    metrics=[\"accuracy\", lip.losses.MulticlassKR()],\n",
    ")"
   ]
  },
  {
   "cell_type": "code",
   "execution_count": null,
   "id": "20c8b664-fb10-42bb-8c71-4ce23f0732ec",
   "metadata": {},
   "outputs": [],
   "source": [
    "epochs=epochs\n",
    "certs=[]\n",
    "for i in range(epochs):\n",
    "    cert=fit_1_epoch_and_get_cert_test_dataset(model, X_train, y_train, X_test, y_test)\n",
    "    certs.append(cert)\n",
    "\n",
    "    print()\n",
    "    print('Mean certificate epoch '+str(i))\n",
    "    print(np.mean(cert))\n",
    "    print()"
   ]
  },
  {
   "cell_type": "raw",
   "id": "82762bd9-9578-4253-ab28-eeafd404e579",
   "metadata": {},
   "source": [
    "62/62 [==============================] - 0s 682us/step\n",
    "\n",
    "Mean certificate epoch 0\n",
    "3.0188954\n",
    "\n",
    "62/62 [==============================] - 0s 717us/step\n",
    "\n",
    "Mean certificate epoch 1\n",
    "5.3280826\n",
    "\n",
    "62/62 [==============================] - 0s 666us/step\n",
    "\n",
    "Mean certificate epoch 2\n",
    "5.984768\n",
    "\n",
    "62/62 [==============================] - 0s 721us/step\n",
    "\n",
    "Mean certificate epoch 3\n",
    "6.2532234\n",
    "\n",
    "62/62 [==============================] - 0s 771us/step\n",
    "\n",
    "Mean certificate epoch 4\n",
    "6.426906"
   ]
  },
  {
   "cell_type": "markdown",
   "id": "22d27fae-d074-4f66-8200-de07e5714172",
   "metadata": {},
   "source": [
    "### Checking the \"Lipschitzness\" of a model"
   ]
  },
  {
   "cell_type": "markdown",
   "id": "123842f7-680a-4f5f-a1cb-1c2afe0a7bb5",
   "metadata": {},
   "source": [
    "In the course of building the function to calculate the certificates, I had to create a function that given layers as input, returns the K value associated with these layers.\n",
    "\n",
    "To avoid making assumptions, I elected to code a function that checks the Lispchitzness of the layers provided as input, as well as the activation functions/layers.\n",
    "\n",
    "In the below, I show the result of this input validation step on various examples."
   ]
  },
  {
   "cell_type": "code",
   "execution_count": null,
   "id": "bc5fc120-4ad5-42d7-8e13-87c282af55e7",
   "metadata": {},
   "outputs": [],
   "source": [
    "# Load MNIST Database\n",
    "(X_train, y_train_ord), (X_test, y_test_ord) = mnist.load_data()\n",
    "\n",
    "# standardize and reshape the data\n",
    "X_test = np.expand_dims(X_test, -1) / 255\n",
    "num_classes=len(np.unique(y_test_ord))\n",
    "input_shape=X_test.shape[1:]"
   ]
  },
  {
   "cell_type": "code",
   "execution_count": null,
   "id": "dda40154-49be-4e15-82ea-a45622407c9d",
   "metadata": {},
   "outputs": [],
   "source": [
    "num_classes"
   ]
  },
  {
   "cell_type": "markdown",
   "id": "d335e923-ff22-44ac-94d7-7983046760cb",
   "metadata": {},
   "source": [
    "#### Keras layers are used, but lip layers alternatives exit"
   ]
  },
  {
   "cell_type": "code",
   "execution_count": null,
   "id": "343fec6d-be9b-43fb-92c7-4b197923e5f5",
   "metadata": {},
   "outputs": [],
   "source": [
    "# a basic model that does not follow any Lipschitz constraint\n",
    "model = keras.Sequential([\n",
    "        layers.Input(input_shape),\n",
    "        layers.Flatten(),\n",
    "        layers.Dense(64),\n",
    "        layers.Dense(32),\n",
    "        layers.Dense(num_classes)\n",
    "    ])"
   ]
  },
  {
   "cell_type": "code",
   "execution_count": null,
   "id": "e683690a-b687-402b-a1eb-f7da8c99eb8f",
   "metadata": {},
   "outputs": [],
   "source": [
    "c=get_certificate(model,X_test)\n",
    "print(\"certificate:\")\n",
    "print(c)"
   ]
  },
  {
   "cell_type": "markdown",
   "id": "4d5952f6-6c9c-432f-b41b-d72f3b249e1e",
   "metadata": {},
   "source": [
    "For information, our code reacts similarly for all of the below:"
   ]
  },
  {
   "cell_type": "markdown",
   "id": "c1e0adb9-5ee8-41b9-8842-f3af24725851",
   "metadata": {},
   "source": [
    "        [\n",
    "                \"dense\",\n",
    "                \"average_pooling2d\",\n",
    "                \"global_average_pooling2d\",\n",
    "                \"conv2d\"\n",
    "            ],"
   ]
  },
  {
   "cell_type": "markdown",
   "id": "fac2e2ae-9b90-466d-9680-17db0870aa93",
   "metadata": {},
   "source": [
    "This can be useful if we want to calculate certificates for 1-Lipschitz architectures that have been converted to keras."
   ]
  },
  {
   "cell_type": "markdown",
   "id": "f2b19208-afe9-4e9d-9f61-d778481eb33e",
   "metadata": {},
   "source": [
    "#### A layer is not Lispchtiz-continuous"
   ]
  },
  {
   "cell_type": "code",
   "execution_count": null,
   "id": "c13ca75c-4093-47ab-a936-ba5651ece739",
   "metadata": {},
   "outputs": [],
   "source": [
    "# a basic model that does not follow any Lipschitz constraint\n",
    "model = keras.Sequential([\n",
    "        layers.Input(shape=input_shape),\n",
    "        layers.Flatten(),\n",
    "        layers.Dropout(0.3),\n",
    "        lip.layers.SpectralDense(64),\n",
    "        lip.layers.SpectralDense(32),\n",
    "        lip.layers.SpectralDense(num_classes)\n",
    "    ])"
   ]
  },
  {
   "cell_type": "code",
   "execution_count": null,
   "id": "50f23fe2-d54e-44d2-8042-ab0a641d7a4c",
   "metadata": {},
   "outputs": [],
   "source": [
    "try:\n",
    "    c=get_certificate(model,X_test)\n",
    "    print(\"certificate:\")\n",
    "    print(c)\n",
    "except Exception as e: # don't know why exception is not caught\n",
    "    print(\"An error occurred:\", str(e))\n",
    "    print()"
   ]
  },
  {
   "cell_type": "markdown",
   "id": "6336219d-a0d6-48ad-98c2-83c722732bea",
   "metadata": {},
   "source": [
    "For information, our code reacts similarly for all of the below:"
   ]
  },
  {
   "cell_type": "markdown",
   "id": "2eb62967-7517-4a5e-93f4-a0495b947551",
   "metadata": {},
   "source": [
    "     [\n",
    "    \"Dropout\",\n",
    "    \"ELU\",\n",
    "    \"LeakyReLU\",\n",
    "    \"ThresholdedReLU\",\n",
    "    \"BatchNormalization\",\n",
    "    ],\n"
   ]
  },
  {
   "cell_type": "markdown",
   "id": "53ff2bce-60ea-4e2a-bea9-03a5fbaae1e0",
   "metadata": {},
   "source": [
    "#### A layer is \"unknown\""
   ]
  },
  {
   "cell_type": "code",
   "execution_count": null,
   "id": "f3ff0db6-cd72-4123-a1b0-726cf89b5d0a",
   "metadata": {},
   "outputs": [],
   "source": [
    "model = keras.Sequential([\n",
    "        layers.Input(shape=input_shape),\n",
    "        layers.Flatten(),\n",
    "        layers.Lambda(lambda x: x + 2),\n",
    "        lip.layers.SpectralDense(64),\n",
    "        lip.layers.SpectralDense(32),\n",
    "        lip.layers.SpectralDense(num_classes)\n",
    "])"
   ]
  },
  {
   "cell_type": "code",
   "execution_count": null,
   "id": "dfec3c36-4765-4580-b485-cfd3155cf842",
   "metadata": {},
   "outputs": [],
   "source": [
    "c=get_certificate(model,X_test)\n",
    "print(\"certificate:\")\n",
    "print(c)"
   ]
  },
  {
   "cell_type": "markdown",
   "id": "f4a35d1a-8155-463a-b995-5a9c41e2f323",
   "metadata": {},
   "source": [
    "Known layers include the following"
   ]
  },
  {
   "cell_type": "markdown",
   "id": "a35c62aa-72fe-4ece-ad6a-33d58a7577b0",
   "metadata": {},
   "source": [
    "        \"supported_neutral_layers\": [\"Flatten\", \"InputLayer\"],#\"KerasTensor\" \n",
    "        \n",
    "        \"not_deel\": [\n",
    "        \"dense\",\n",
    "        \"average_pooling2d\",\n",
    "        \"global_average_pooling2d\",\n",
    "        \"conv2d\"\n",
    "        ], # We don't use layer.__class__.__name__ to find these as for Conv2D and GlobalAveragePooling2D, it results in 'type'\n",
    "        \n",
    "        \"not_Lipschitz\": [\n",
    "        \"Dropout\",\n",
    "        \"ELU\",\n",
    "        \"LeakyReLU\",\n",
    "        \"ThresholdedReLU\",\n",
    "        \"BatchNormalization\",\n",
    "        ],\n",
    "        \n",
    "        \n"
   ]
  },
  {
   "cell_type": "markdown",
   "id": "a4226f76-64c8-4b7d-9524-ae9f9c8afc0b",
   "metadata": {},
   "source": [
    "#### A keras activation functions is used inside layers (e.g. tf.keras.activations.exponential)"
   ]
  },
  {
   "cell_type": "code",
   "execution_count": null,
   "id": "0a46cfa4-f29b-42df-b8d6-5006d04c8083",
   "metadata": {},
   "outputs": [],
   "source": [
    "keras_activation_functions_names=['exponential', 'elu',\\\n",
    "                            'selu','tanh', \\\n",
    "                            'sigmoid', 'softplus', 'softsign']"
   ]
  },
  {
   "cell_type": "code",
   "execution_count": null,
   "id": "7f4ba21c-6ecd-45a1-982e-8a3a60d00de9",
   "metadata": {
    "scrolled": true
   },
   "outputs": [],
   "source": [
    "for i in range(0,len(keras_activation_functions_names)):\n",
    "    activation_function_name=keras_activation_functions_names[i]\n",
    "    print()\n",
    "    print(activation_function_name)\n",
    "    print()\n",
    "    inputs = keras.layers.Input(input_shape)\n",
    "    x = keras.layers.Flatten()(inputs)\n",
    "    x = lip.layers.SpectralDense(64, activation=activation_function_name)(x)\n",
    "    x = lip.layers.SpectralDense(32)(x)\n",
    "    y = lip.layers.SpectralDense(num_classes)(x)\n",
    "    model = lip.model.Model(inputs=inputs, outputs=y)\n",
    "    \n",
    "    \n",
    "    c=get_certificate(model,X_test)\n",
    "    print(\"certificate:\")\n",
    "    print(c)"
   ]
  },
  {
   "cell_type": "markdown",
   "id": "9fcad34b-e7c1-43a3-9f0a-144bf05bdaf8",
   "metadata": {},
   "source": [
    "#### A keras activation layer is used"
   ]
  },
  {
   "cell_type": "code",
   "execution_count": null,
   "id": "f088204e-1efc-465d-82b6-4a9ffd8c6d25",
   "metadata": {},
   "outputs": [],
   "source": [
    "keras_activation_layers=[tf.keras.layers.ReLU(),tf.keras.layers.PReLU(), tf.keras.layers.LeakyReLU(), tf.keras.layers.ELU(), tf.keras.layers.ThresholdedReLU()]"
   ]
  },
  {
   "cell_type": "code",
   "execution_count": null,
   "id": "40602c8d-38ab-4759-88e7-3378afefbfce",
   "metadata": {
    "scrolled": true
   },
   "outputs": [],
   "source": [
    "for i in range(0,len(keras_activation_layers)):\n",
    "    activation_layer=keras_activation_layers[i]\n",
    "    print(activation_layer)\n",
    "    \n",
    "    model = lip.model.Sequential([    \n",
    "            keras.layers.Input(shape=input_shape),\n",
    "            keras.layers.Flatten(),\n",
    "            lip.layers.SpectralDense(64),\n",
    "            activation_layer,\n",
    "            lip.layers.SpectralDense(32),\n",
    "            lip.layers.SpectralDense(num_classes),\n",
    "        ],\n",
    "    )\n",
    "    \n",
    "    try:\n",
    "        c=get_certificate(model,X_test)\n",
    "        print(\"certificate:\")\n",
    "        print(c)\n",
    "    except Exception as e:\n",
    "        print(\"An error occurred:\", str(e))\n",
    "        print()"
   ]
  },
  {
   "cell_type": "markdown",
   "id": "6040603b-ffed-4798-b053-60ec6a57695b",
   "metadata": {},
   "source": [
    "#### The particular case of using an activation function for the last layer"
   ]
  },
  {
   "cell_type": "code",
   "execution_count": null,
   "id": "bfb70334-e323-4f0c-baf9-f409bd05c8f7",
   "metadata": {},
   "outputs": [],
   "source": [
    "model = lip.model.Sequential([    \n",
    "        keras.layers.Input(shape=input_shape),\n",
    "        keras.layers.Flatten(),\n",
    "        lip.layers.SpectralDense(64),\n",
    "        lip.layers.SpectralDense(32),\n",
    "        lip.layers.SpectralDense(num_classes, activation='softmax'),\n",
    "    ],\n",
    ")\n",
    "\n",
    "\n",
    "c=get_certificate(model,X_test)\n",
    "print(\"certificate:\")\n",
    "print(c)"
   ]
  },
  {
   "cell_type": "code",
   "execution_count": null,
   "id": "9026de3a-997e-4879-93d0-e8a7d308c8db",
   "metadata": {},
   "outputs": [],
   "source": [
    "model = lip.model.Sequential([    \n",
    "        keras.layers.Input(shape=input_shape),\n",
    "        keras.layers.Flatten(),\n",
    "        lip.layers.SpectralDense(64),\n",
    "        lip.layers.SpectralDense(32),\n",
    "        lip.layers.SpectralDense(num_classes),\n",
    "        lip.layers.GroupSort2()\n",
    "    ],\n",
    ")\n",
    "\n",
    "try:\n",
    "    c=get_certificate(model,X_test)\n",
    "    print(\"certificate:\")\n",
    "    print(c)\n",
    "except Exception as e:\n",
    "    print(\"An error occurred:\", str(e))"
   ]
  },
  {
   "cell_type": "markdown",
   "id": "16c2349b-e7be-40e4-baa6-ba229756f869",
   "metadata": {},
   "source": [
    "#### Things that are not clear yet"
   ]
  },
  {
   "cell_type": "markdown",
   "id": "c5f9a2d0-5e78-4c89-b14b-c900f82caa90",
   "metadata": {},
   "source": [
    "##### The PReLULip layer\n",
    "\n"
   ]
  },
  {
   "cell_type": "markdown",
   "id": "92280bfc-b0e2-44c8-8370-e32260dcdc24",
   "metadata": {},
   "source": [
    "Lip throws the following warning for the PReLULip layer"
   ]
  },
  {
   "cell_type": "code",
   "execution_count": null,
   "id": "902e1dba-9ef5-46d2-8bd7-c317897299ae",
   "metadata": {},
   "outputs": [],
   "source": [
    "model = lip.model.Sequential([    \n",
    "        keras.layers.Input(shape=input_shape),\n",
    "        keras.layers.Flatten(),\n",
    "        lip.layers.SpectralDense(64),\n",
    "        lip.layers.SpectralDense(32),\n",
    "        lip.layers.PReLUlip(),\n",
    "        lip.layers.SpectralDense(num_classes),\n",
    "    ],\n",
    ")\n"
   ]
  },
  {
   "cell_type": "markdown",
   "id": "4e925c06-c23f-4eee-86de-7d1dc19f8849",
   "metadata": {},
   "source": [
    "For now, I treat both the layer and activation functions as unknowns:"
   ]
  },
  {
   "cell_type": "code",
   "execution_count": null,
   "id": "6a450f83-cc51-4802-b740-77655b65c9e2",
   "metadata": {},
   "outputs": [],
   "source": [
    "model = lip.model.Sequential([    \n",
    "        keras.layers.Input(shape=input_shape),\n",
    "        keras.layers.Flatten(),\n",
    "        lip.layers.SpectralDense(64, activation=lip.activations.PReLUlip()),\n",
    "        lip.layers.SpectralDense(32),\n",
    "        lip.layers.PReLUlip(),\n",
    "        lip.layers.SpectralDense(num_classes),\n",
    "    ],\n",
    ")\n"
   ]
  },
  {
   "cell_type": "code",
   "execution_count": null,
   "id": "f61886d4-7e05-4547-b472-968cc58d461f",
   "metadata": {},
   "outputs": [],
   "source": [
    "c=get_certificate(model,X_test)\n",
    "print(\"certificate:\")\n",
    "print(c)"
   ]
  },
  {
   "cell_type": "markdown",
   "id": "1961abcc-f540-47b2-96e0-6f8467f6216b",
   "metadata": {},
   "source": [
    "##### How to deal with layers and activation functions that are potentially 1-Lipschitz but not necessarily"
   ]
  },
  {
   "cell_type": "markdown",
   "id": "09251bfa-ea00-4f6a-9e5f-4a2252597f88",
   "metadata": {},
   "source": [
    "This is the case of dense layers for instance, or for custom activation layers/functions.\n",
    "\n",
    "For now, I raise a warning and assume that the layer is 1-Lipschitz. "
   ]
  }
 ],
 "metadata": {
  "kernelspec": {
   "display_name": "Python 3 (ipykernel)",
   "language": "python",
   "name": "python3"
  },
  "language_info": {
   "codemirror_mode": {
    "name": "ipython",
    "version": 3
   },
   "file_extension": ".py",
   "mimetype": "text/x-python",
   "name": "python",
   "nbconvert_exporter": "python",
   "pygments_lexer": "ipython3",
   "version": "3.10.9"
  }
 },
 "nbformat": 4,
 "nbformat_minor": 5
}

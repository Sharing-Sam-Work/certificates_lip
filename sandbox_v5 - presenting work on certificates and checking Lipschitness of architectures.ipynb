{
 "cells": [
  {
   "cell_type": "markdown",
   "id": "ea52ec08-8d5f-4952-9759-156ce52aee08",
   "metadata": {},
   "source": [
    "### Goal"
   ]
  },
  {
   "cell_type": "markdown",
   "id": "246b661e-6b56-4add-ab4c-025b45d7a34a",
   "metadata": {},
   "source": [
    "The goal of this notebook is to present the work done in the context of building a set of functions for calculating certificates and checking the Lipschitness of architectures.\n",
    "\n",
    "It can be used as a base for further discussion (evaluation of usefulness of the functions, suggestions of improvements, etc...)."
   ]
  },
  {
   "cell_type": "markdown",
   "id": "096dc40f-3e60-410b-8574-731ead0a9d2e",
   "metadata": {},
   "source": [
    "### Importing"
   ]
  },
  {
   "cell_type": "code",
   "execution_count": 1,
   "id": "1f10805c-cf37-4353-ab29-73d639d390e7",
   "metadata": {},
   "outputs": [],
   "source": [
    "import tensorflow as tf\n",
    "from tensorflow import keras\n",
    "from tensorflow.keras import layers\n",
    "from tensorflow.keras.optimizers import Adam\n",
    "from tensorflow.keras.layers import Input, Flatten\n",
    "from tensorflow.keras.datasets import mnist\n",
    "from tensorflow.keras.utils import to_categorical\n",
    "\n",
    "import numpy as np\n",
    "\n",
    "import logging\n",
    "\n",
    "import deel\n",
    "\n",
    "from deel import lip"
   ]
  },
  {
   "cell_type": "code",
   "execution_count": 2,
   "id": "ebf553f9-5b14-45b6-8b7b-e5add111cb91",
   "metadata": {},
   "outputs": [],
   "source": [
    "from certificates_v5 import *"
   ]
  },
  {
   "cell_type": "code",
   "execution_count": 3,
   "id": "dd423c90-cecc-4cb3-aae1-c905e9bcd44c",
   "metadata": {},
   "outputs": [],
   "source": [
    "def fit_1_epoch_and_get_cert_test_dataset(model, X_train, y_train, X_test, y_test):\n",
    "    result=model.fit(\n",
    "        X_train,\n",
    "        y_train,\n",
    "        batch_size=256,\n",
    "        epochs=1,\n",
    "        validation_data=(X_test, y_test),\n",
    "        shuffle=True,\n",
    "        verbose=0,\n",
    "    )\n",
    "\n",
    "    cert=get_certificate(model, X_test)\n",
    "\n",
    "    return cert"
   ]
  },
  {
   "cell_type": "markdown",
   "id": "f73d18ff-12a4-4935-8a86-7238686d4ac9",
   "metadata": {
    "jp-MarkdownHeadingCollapsed": true
   },
   "source": [
    "### Setting the seed (for reproducibility)"
   ]
  },
  {
   "cell_type": "code",
   "execution_count": 4,
   "id": "00e71d7f-7f79-490f-a031-bc979a6945ea",
   "metadata": {},
   "outputs": [],
   "source": [
    "seed_value = 42  # You can choose any seed value\n",
    "np.random.seed(seed_value)\n",
    "tf.random.set_seed(seed_value)\n",
    "keras.utils.set_random_seed(seed_value)"
   ]
  },
  {
   "cell_type": "markdown",
   "id": "0286571d-17f6-40b8-ae08-561f2798eff5",
   "metadata": {},
   "source": [
    "### Calculating a certificate in-between training epochs"
   ]
  },
  {
   "cell_type": "markdown",
   "id": "8b6ea9ae-ae5f-4cbe-a5e8-67997c260ac2",
   "metadata": {},
   "source": [
    "#### Multi-classification"
   ]
  },
  {
   "cell_type": "markdown",
   "id": "68256b20-d77c-4255-886c-c055c3867118",
   "metadata": {},
   "source": [
    "We calculate the certificates for the MNIST test dataset after each epoch."
   ]
  },
  {
   "cell_type": "code",
   "execution_count": 5,
   "id": "be129ea2-519d-4289-8fba-323bfc5731c7",
   "metadata": {},
   "outputs": [],
   "source": [
    "# Load MNIST Database\n",
    "(X_train, y_train_ord), (X_test, y_test_ord) = mnist.load_data()\n",
    "\n",
    "# standardize and reshape the data\n",
    "X_train = np.expand_dims(X_train, -1) / 255\n",
    "X_test = np.expand_dims(X_test, -1) / 255\n",
    "\n",
    "# one hot encode the labels\n",
    "y_train = to_categorical(y_train_ord)\n",
    "y_test = to_categorical(y_test_ord)"
   ]
  },
  {
   "cell_type": "code",
   "execution_count": 6,
   "id": "aa86d74c-617f-40c5-a6a7-29bbf24d4ebf",
   "metadata": {},
   "outputs": [],
   "source": [
    "model = lip.Sequential(\n",
    "        [\n",
    "        Input(shape=X_train.shape[1:]),\n",
    "        \n",
    "        lip.layers.SpectralConv2D(\n",
    "                filters=16,\n",
    "                kernel_size=(3, 3),\n",
    "                use_bias=True,\n",
    "                kernel_initializer=\"orthogonal\",\n",
    "            ),\n",
    "\n",
    "        lip.layers.GroupSort2(),\n",
    "            \n",
    "        lip.layers.ScaledL2NormPooling2D(pool_size=(2, 2), data_format=\"channels_last\"),\n",
    "            \n",
    "        lip.layers.SpectralConv2D(\n",
    "                filters=32,\n",
    "                kernel_size=(3, 3),\n",
    "                use_bias=True,\n",
    "                kernel_initializer=\"orthogonal\",\n",
    "            ),\n",
    "            \n",
    "        lip.layers.GroupSort2(),\n",
    "        \n",
    "        lip.layers.ScaledL2NormPooling2D(pool_size=(2, 2), data_format=\"channels_last\"),\n",
    "        \n",
    "        Flatten(),\n",
    "        \n",
    "        lip.layers.SpectralDense(\n",
    "                64,\n",
    "                use_bias=True,\n",
    "                kernel_initializer=\"orthogonal\",\n",
    "            ),\n",
    "\n",
    "        lip.layers.GroupSort2(),\n",
    "        \n",
    "        lip.layers.SpectralDense(\n",
    "                y_train.shape[-1], \n",
    "                activation=None, \n",
    "                use_bias=False, \n",
    "                kernel_initializer=\"orthogonal\"\n",
    "            ),\n",
    "        ],\n",
    "\n",
    "    )"
   ]
  },
  {
   "cell_type": "code",
   "execution_count": 7,
   "id": "c830801b-dafa-4f5c-84c9-270ef6188f47",
   "metadata": {},
   "outputs": [],
   "source": [
    "temperature=10.\n",
    "\n",
    "model.compile(\n",
    "    loss=lip.losses.TauCategoricalCrossentropy(tau=temperature),\n",
    "    optimizer=Adam(1e-4),\n",
    "    # notice the use of lip.losses.MulticlassKR(), to assess adversarial robustness\n",
    "    metrics=[\"accuracy\", lip.losses.MulticlassKR()],\n",
    ")"
   ]
  },
  {
   "cell_type": "code",
   "execution_count": 8,
   "id": "a8374851-9445-4cb6-8eb7-2c3bb022d496",
   "metadata": {},
   "outputs": [
    {
     "name": "stdout",
     "output_type": "stream",
     "text": [
      "313/313 [==============================] - 1s 3ms/step\n",
      "\n",
      "Mean certificate epoch 0\n",
      "0.22376393966438654\n",
      "\n",
      "313/313 [==============================] - 1s 4ms/step\n",
      "\n",
      "Mean certificate epoch 1\n",
      "0.2910311115991848\n",
      "\n",
      "313/313 [==============================] - 1s 3ms/step\n",
      "\n",
      "Mean certificate epoch 2\n",
      "0.32991957323018334\n",
      "\n",
      "313/313 [==============================] - 1s 3ms/step\n",
      "\n",
      "Mean certificate epoch 3\n",
      "0.35404827102177366\n",
      "\n",
      "313/313 [==============================] - 1s 3ms/step\n",
      "\n",
      "Mean certificate epoch 4\n",
      "0.3717613028311117\n",
      "\n"
     ]
    }
   ],
   "source": [
    "epochs=5\n",
    "certs=[]\n",
    "for i in range(epochs):\n",
    "    cert=fit_1_epoch_and_get_cert_test_dataset(model, X_train, y_train, X_test, y_test)\n",
    "    certs.append(cert)\n",
    "\n",
    "    print()\n",
    "    print('Mean certificate epoch '+str(i))\n",
    "    print(np.mean(cert))\n",
    "    print()"
   ]
  },
  {
   "cell_type": "raw",
   "id": "9e06c6a8-b74f-4264-be5a-d3cca5bd7c20",
   "metadata": {},
   "source": [
    "313/313 [==============================] - 1s 3ms/step\n",
    "\n",
    "Mean certificate epoch 0\n",
    "0.22376393966438654\n",
    "\n",
    "313/313 [==============================] - 1s 4ms/step\n",
    "\n",
    "Mean certificate epoch 1\n",
    "0.2910311115991848\n",
    "\n",
    "313/313 [==============================] - 1s 4ms/step\n",
    "\n",
    "Mean certificate epoch 2\n",
    "0.32991957323018334\n",
    "\n",
    "313/313 [==============================] - 1s 4ms/step\n",
    "\n",
    "Mean certificate epoch 3\n",
    "0.35404827102177366\n",
    "\n",
    "313/313 [==============================] - 1s 4ms/step\n",
    "\n",
    "Mean certificate epoch 4\n",
    "0.3717613028311117"
   ]
  },
  {
   "cell_type": "markdown",
   "id": "c4decffc-e4c0-4ff7-8169-e245fbb0623c",
   "metadata": {},
   "source": [
    "We notice that the mean certificate value increases, as expected."
   ]
  },
  {
   "cell_type": "markdown",
   "id": "c26eea7a-6b3a-4dc5-9123-992ef2074e11",
   "metadata": {},
   "source": [
    "#### Binary classification"
   ]
  },
  {
   "cell_type": "markdown",
   "id": "968a27a0-36be-42db-95ca-f64c6ecfe0b7",
   "metadata": {},
   "source": [
    "We calculate the certificates for the MNIST test subdataset (labels 0 and 8) after each epoch."
   ]
  },
  {
   "cell_type": "code",
   "execution_count": 9,
   "id": "55f550eb-dda3-4980-8cdf-7d65c6a0b8ba",
   "metadata": {},
   "outputs": [
    {
     "name": "stdout",
     "output_type": "stream",
     "text": [
      "train set size: 11774 samples, classes proportions: 50.306 percent\n",
      "test set size: 1954 samples, classes proportions: 50.154 percent\n"
     ]
    }
   ],
   "source": [
    "# first we select the two classes\n",
    "selected_classes = [0, 8]  # must be two classes as we perform binary classification\n",
    "\n",
    "\n",
    "def prepare_data(x, y, class_a=0, class_b=8):\n",
    "    \"\"\"\n",
    "    This function convert the MNIST data to make it suitable for our binary classification\n",
    "    setup.\n",
    "    \"\"\"\n",
    "    # select items from the two selected classes\n",
    "    mask = (y == class_a) + (\n",
    "        y == class_b\n",
    "    )  # mask to select only items from class_a or class_b\n",
    "    x = x[mask]\n",
    "    y = y[mask]\n",
    "    x = x.astype(\"float32\")\n",
    "    y = y.astype(\"float32\")\n",
    "    # convert from range int[0,255] to float32[-1,1]\n",
    "    x /= 255\n",
    "    x = x.reshape((-1, 28, 28, 1))\n",
    "    # change label to binary classification {-1,1}\n",
    "    y[y == class_a] = 1.0\n",
    "    y[y == class_b] = -1.0\n",
    "    return x, y\n",
    "\n",
    "\n",
    "# now we load the dataset\n",
    "(X_train, y_train_ord), (X_test, y_test_ord) = mnist.load_data()\n",
    "\n",
    "# prepare the data\n",
    "X_train, y_train = prepare_data(\n",
    "    X_train, y_train_ord, selected_classes[0], selected_classes[1]\n",
    ")\n",
    "X_test, y_test = prepare_data(\n",
    "    X_test, y_test_ord, selected_classes[0], selected_classes[1]\n",
    ")\n",
    "\n",
    "# display infos about dataset\n",
    "print(\n",
    "    \"train set size: %i samples, classes proportions: %.3f percent\"\n",
    "    % (y_train.shape[0], 100 * y_train[y_train == 1].sum() / y_train.shape[0])\n",
    ")\n",
    "print(\n",
    "    \"test set size: %i samples, classes proportions: %.3f percent\"\n",
    "    % (y_test.shape[0], 100 * y_test[y_test == 1].sum() / y_test.shape[0])\n",
    ")\n"
   ]
  },
  {
   "cell_type": "code",
   "execution_count": 10,
   "id": "e5442f76-b622-4ace-9d60-290d09d5f038",
   "metadata": {},
   "outputs": [
    {
     "name": "stderr",
     "output_type": "stream",
     "text": [
      "C:\\Users\\kierszbaums\\anaconda.related\\envs\\1_lipschitz\\deel_lip\\lib\\site-packages\\keras\\src\\initializers\\initializers.py:120: UserWarning: The initializer Orthogonal is unseeded and being called multiple times, which will return identical values each time (even if the initializer is unseeded). Please update your code to provide a seed to the initializer, or avoid using the same initializer instance more than once.\n",
      "  warnings.warn(\n"
     ]
    }
   ],
   "source": [
    "inputs = keras.layers.Input(X_train.shape[1:])\n",
    "x = keras.layers.Flatten()(inputs)\n",
    "x = lip.layers.SpectralDense(64)(x)\n",
    "x = lip.layers.GroupSort2()(x)\n",
    "x = lip.layers.SpectralDense(32)(x)\n",
    "x = lip.layers.GroupSort2()(x)\n",
    "y = lip.layers.SpectralDense(1, activation=None)(x)\n",
    "model = lip.model.Model(inputs=inputs, outputs=y)"
   ]
  },
  {
   "cell_type": "code",
   "execution_count": 11,
   "id": "c57fe568-025a-4d25-8e16-7d8440b9ed36",
   "metadata": {},
   "outputs": [],
   "source": [
    "temperature=10.\n",
    "\n",
    "model.compile(\n",
    "    loss=lip.losses.TauCategoricalCrossentropy(tau=temperature),\n",
    "    optimizer=Adam(1e-4),\n",
    "    # notice the use of lip.losses.MulticlassKR(), to assess adversarial robustness\n",
    "    metrics=[\"accuracy\", lip.losses.MulticlassKR()],\n",
    ")"
   ]
  },
  {
   "cell_type": "code",
   "execution_count": 12,
   "id": "20c8b664-fb10-42bb-8c71-4ce23f0732ec",
   "metadata": {},
   "outputs": [
    {
     "name": "stderr",
     "output_type": "stream",
     "text": [
      "C:\\Users\\kierszbaums\\anaconda.related\\envs\\1_lipschitz\\deel_lip\\lib\\site-packages\\tensorflow\\python\\util\\dispatch.py:1176: SyntaxWarning: In loss categorical_crossentropy, expected y_pred.shape to be (batch_size, num_classes) with num_classes > 1. Received: y_pred.shape=(None, 1). Consider using 'binary_crossentropy' if you only have 2 classes.\n",
      "  return dispatch_target(*args, **kwargs)\n"
     ]
    },
    {
     "name": "stdout",
     "output_type": "stream",
     "text": [
      "62/62 [==============================] - 0s 837us/step\n",
      "\n",
      "Mean certificate epoch 0\n",
      "3.0188954\n",
      "\n",
      "62/62 [==============================] - 0s 866us/step\n",
      "\n",
      "Mean certificate epoch 1\n",
      "5.3280826\n",
      "\n",
      "62/62 [==============================] - 0s 758us/step\n",
      "\n",
      "Mean certificate epoch 2\n",
      "5.984768\n",
      "\n",
      "62/62 [==============================] - 0s 880us/step\n",
      "\n",
      "Mean certificate epoch 3\n",
      "6.2532234\n",
      "\n",
      "62/62 [==============================] - 0s 824us/step\n",
      "\n",
      "Mean certificate epoch 4\n",
      "6.426906\n",
      "\n"
     ]
    }
   ],
   "source": [
    "epochs=5\n",
    "certs=[]\n",
    "for i in range(epochs):\n",
    "    cert=fit_1_epoch_and_get_cert_test_dataset(model, X_train, y_train, X_test, y_test)\n",
    "    certs.append(cert)\n",
    "\n",
    "    print()\n",
    "    print('Mean certificate epoch '+str(i))\n",
    "    print(np.mean(cert))\n",
    "    print()"
   ]
  },
  {
   "cell_type": "raw",
   "id": "82762bd9-9578-4253-ab28-eeafd404e579",
   "metadata": {},
   "source": [
    "62/62 [==============================] - 0s 761us/step\n",
    "\n",
    "Mean certificate epoch 0\n",
    "3.0200331\n",
    "\n",
    "62/62 [==============================] - 0s 664us/step\n",
    "\n",
    "Mean certificate epoch 1\n",
    "5.118558\n",
    "\n",
    "62/62 [==============================] - 0s 918us/step\n",
    "\n",
    "Mean certificate epoch 2\n",
    "5.848608\n",
    "\n",
    "62/62 [==============================] - 0s 709us/step\n",
    "\n",
    "Mean certificate epoch 3\n",
    "6.141839\n",
    "\n",
    "62/62 [==============================] - 0s 783us/step\n",
    "\n",
    "Mean certificate epoch 4\n",
    "6.329975"
   ]
  },
  {
   "cell_type": "markdown",
   "id": "22d27fae-d074-4f66-8200-de07e5714172",
   "metadata": {},
   "source": [
    "### Checking the \"Lipschitzness\" of a model"
   ]
  },
  {
   "cell_type": "markdown",
   "id": "123842f7-680a-4f5f-a1cb-1c2afe0a7bb5",
   "metadata": {},
   "source": [
    "In the course of building the function to calculate the certificates, I had to create a function that given layers as input, returns the K value associated with these layers.\n",
    "\n",
    "To avoid making assumptions, I elected to code a function that checks the Lispchitzness of the layers provided as input, as well as the activation functions/layers.\n",
    "\n",
    "In the below, I show the result of this input validation step on various examples."
   ]
  },
  {
   "cell_type": "code",
   "execution_count": 13,
   "id": "bc5fc120-4ad5-42d7-8e13-87c282af55e7",
   "metadata": {},
   "outputs": [],
   "source": [
    "# Load MNIST Database\n",
    "(X_train, y_train_ord), (X_test, y_test_ord) = mnist.load_data()\n",
    "\n",
    "# standardize and reshape the data\n",
    "X_test = np.expand_dims(X_test, -1) / 255\n",
    "num_classes=len(np.unique(y_test_ord))\n",
    "input_shape=X_test.shape[1:]"
   ]
  },
  {
   "cell_type": "code",
   "execution_count": 14,
   "id": "dda40154-49be-4e15-82ea-a45622407c9d",
   "metadata": {},
   "outputs": [
    {
     "data": {
      "text/plain": [
       "10"
      ]
     },
     "execution_count": 14,
     "metadata": {},
     "output_type": "execute_result"
    }
   ],
   "source": [
    "num_classes"
   ]
  },
  {
   "cell_type": "markdown",
   "id": "d335e923-ff22-44ac-94d7-7983046760cb",
   "metadata": {},
   "source": [
    "#### Keras layers are used, but lip layers alternatives exit"
   ]
  },
  {
   "cell_type": "code",
   "execution_count": 15,
   "id": "343fec6d-be9b-43fb-92c7-4b197923e5f5",
   "metadata": {},
   "outputs": [],
   "source": [
    "# a basic model that does not follow any Lipschitz constraint\n",
    "model = keras.Sequential([\n",
    "        layers.Input(input_shape),\n",
    "        layers.Flatten(),\n",
    "        layers.Dense(64),\n",
    "        layers.Dense(32),\n",
    "        layers.Dense(num_classes)\n",
    "    ])"
   ]
  },
  {
   "cell_type": "code",
   "execution_count": 16,
   "id": "e683690a-b687-402b-a1eb-f7da8c99eb8f",
   "metadata": {},
   "outputs": [
    {
     "name": "stdout",
     "output_type": "stream",
     "text": [
      "313/313 [==============================] - 0s 643us/step\n"
     ]
    },
    {
     "name": "stderr",
     "output_type": "stream",
     "text": [
      "WARNING:root:A deel equivalent exists for  'dense'. For practical purposes, we will assume that the layer is 1-Lipschitz.\n",
      "WARNING:root:A deel equivalent exists for  'dense_1'. For practical purposes, we will assume that the layer is 1-Lipschitz.\n"
     ]
    },
    {
     "data": {
      "text/plain": [
       "array([0.03393287, 0.06018438, 0.15845115, ..., 0.05461082, 0.17153033,\n",
       "       0.00395055])"
      ]
     },
     "execution_count": 16,
     "metadata": {},
     "output_type": "execute_result"
    }
   ],
   "source": [
    "get_certificate(model,X_test)"
   ]
  },
  {
   "cell_type": "markdown",
   "id": "4d5952f6-6c9c-432f-b41b-d72f3b249e1e",
   "metadata": {},
   "source": [
    "For information, our code reacts similarly for all of the below:"
   ]
  },
  {
   "cell_type": "code",
   "execution_count": 17,
   "id": "05b97075-baac-4bf9-b6d1-c29413c9306c",
   "metadata": {},
   "outputs": [
    {
     "data": {
      "text/plain": [
       "(['dense', 'average_pooling2d', 'global_average_pooling2d', 'conv2d'],)"
      ]
     },
     "execution_count": 17,
     "metadata": {},
     "output_type": "execute_result"
    }
   ],
   "source": [
    "[\n",
    "        \"dense\",\n",
    "        \"average_pooling2d\",\n",
    "        \"global_average_pooling2d\",\n",
    "        \"conv2d\"\n",
    "    ],"
   ]
  },
  {
   "cell_type": "markdown",
   "id": "f2b19208-afe9-4e9d-9f61-d778481eb33e",
   "metadata": {},
   "source": [
    "#### A Lispchtiz layer is not continuous"
   ]
  },
  {
   "cell_type": "code",
   "execution_count": 18,
   "id": "c13ca75c-4093-47ab-a936-ba5651ece739",
   "metadata": {},
   "outputs": [],
   "source": [
    "# a basic model that does not follow any Lipschitz constraint\n",
    "model = keras.Sequential([\n",
    "        layers.Input(shape=input_shape),\n",
    "        layers.Flatten(),\n",
    "        layers.Dropout(0.3),\n",
    "        lip.layers.SpectralDense(64),\n",
    "        lip.layers.SpectralDense(32),\n",
    "        lip.layers.SpectralDense(num_classes)\n",
    "    ])"
   ]
  },
  {
   "cell_type": "code",
   "execution_count": 19,
   "id": "50f23fe2-d54e-44d2-8042-ab0a641d7a4c",
   "metadata": {},
   "outputs": [
    {
     "name": "stdout",
     "output_type": "stream",
     "text": [
      "313/313 [==============================] - 0s 648us/step\n",
      "NotLipschtzLayerError raised: The layer 'dropout' is not supported\n"
     ]
    }
   ],
   "source": [
    "get_certificate(model,X_test)"
   ]
  },
  {
   "cell_type": "markdown",
   "id": "6336219d-a0d6-48ad-98c2-83c722732bea",
   "metadata": {},
   "source": [
    "For information, our code reacts similarly for all of the below:"
   ]
  },
  {
   "cell_type": "code",
   "execution_count": 20,
   "id": "77d5c96b-92c5-4edb-8c15-b84e44598563",
   "metadata": {},
   "outputs": [
    {
     "data": {
      "text/plain": [
       "['batch_normalization', 'dropout', 'leaky_re_lu', 'elu', 'thresholded_re_lu']"
      ]
     },
     "execution_count": 20,
     "metadata": {},
     "output_type": "execute_result"
    }
   ],
   "source": [
    "[\n",
    "    \"batch_normalization\", \n",
    "    \"dropout\",\n",
    "    \"leaky_re_lu\",\n",
    "    \"elu\",\n",
    "    \"thresholded_re_lu\"\n",
    "]"
   ]
  },
  {
   "cell_type": "markdown",
   "id": "53ff2bce-60ea-4e2a-bea9-03a5fbaae1e0",
   "metadata": {},
   "source": [
    "#### A layer is \"unknown\""
   ]
  },
  {
   "cell_type": "code",
   "execution_count": 21,
   "id": "255780df-3402-4bb3-89a7-23ce5dd1847e",
   "metadata": {},
   "outputs": [],
   "source": [
    "model = keras.Sequential([\n",
    "        layers.Input(shape=input_shape),\n",
    "        layers.Flatten(),\n",
    "        layers.Lambda(lambda x: x + 2),\n",
    "        lip.layers.SpectralDense(64),\n",
    "        lip.layers.SpectralDense(32),\n",
    "        lip.layers.SpectralDense(num_classes)\n",
    "])"
   ]
  },
  {
   "cell_type": "code",
   "execution_count": 22,
   "id": "dfec3c36-4765-4580-b485-cfd3155cf842",
   "metadata": {},
   "outputs": [
    {
     "name": "stdout",
     "output_type": "stream",
     "text": [
      "313/313 [==============================] - 0s 599us/step\n"
     ]
    },
    {
     "name": "stderr",
     "output_type": "stream",
     "text": [
      "WARNING:root:Unknown layer 'lambda' used. For practical purposes, we will assume that the layer is 1-Lipschitz.\n"
     ]
    },
    {
     "data": {
      "text/plain": [
       "array([0.56871272, 1.13870537, 0.90856283, ..., 0.94418046, 0.6876803 ,\n",
       "       1.00900569])"
      ]
     },
     "execution_count": 22,
     "metadata": {},
     "output_type": "execute_result"
    }
   ],
   "source": [
    "get_certificate(model,X_test)"
   ]
  },
  {
   "cell_type": "markdown",
   "id": "f4a35d1a-8155-463a-b995-5a9c41e2f323",
   "metadata": {},
   "source": [
    "Known layers include the following"
   ]
  },
  {
   "cell_type": "raw",
   "id": "b564e89a-bdf4-4316-8a03-84bdf36855a5",
   "metadata": {},
   "source": [
    "\n",
    "\"supported_neutral_layers\": [\"flatten\", \"input\", \"activation\", \"p_re_lu\"], \n",
    "\n",
    "\"not_deel\": [\n",
    "    \"dense\",\n",
    "    \"average_pooling2d\",\n",
    "    \"global_average_pooling2d\",\n",
    "    \"conv2d\"\n",
    "],\n",
    "\"supported_Lipschitz_layers\": [\n",
    "    \"spectral_dense\",\n",
    "    \"frobenius_dense\",\n",
    "    \"scaled_average_pooling2d\",\n",
    "    \"scaled_l2_norm_pooling2d\",\n",
    "    \"scaled_global_average_pooling2d\",\n",
    "    \"spectral_conv2d\",\n",
    "    \"frobenius_conv2d\",\n",
    "    \"group_sort2\",\n",
    "    \"full_sort\",\n",
    "    \"group_sort\",\n",
    "    \"householder\",\n",
    "    \"max_min\"\n",
    "    \n",
    "],\n",
    "\"not_Lipschitz\": [\n",
    "    \"batch_normalization\", \n",
    "    \"dropout\",\n",
    "    \"leaky_re_lu\",\n",
    "    \"elu\",\n",
    "    \"thresholded_re_lu\"\n",
    "],"
   ]
  },
  {
   "cell_type": "markdown",
   "id": "a4226f76-64c8-4b7d-9524-ae9f9c8afc0b",
   "metadata": {},
   "source": [
    "#### A keras activation functions is used inside layers (e.g. tf.keras.activations.exponential)"
   ]
  },
  {
   "cell_type": "code",
   "execution_count": 23,
   "id": "0a46cfa4-f29b-42df-b8d6-5006d04c8083",
   "metadata": {},
   "outputs": [],
   "source": [
    "keras_activation_functions_names=['exponential', 'elu',\\\n",
    "                            'selu','tanh', \\\n",
    "                            'sigmoid', 'softplus', 'softsign']"
   ]
  },
  {
   "cell_type": "code",
   "execution_count": 24,
   "id": "7f4ba21c-6ecd-45a1-982e-8a3a60d00de9",
   "metadata": {
    "scrolled": true
   },
   "outputs": [
    {
     "name": "stdout",
     "output_type": "stream",
     "text": [
      "exponential\n",
      "313/313 [==============================] - 0s 613us/step\n"
     ]
    },
    {
     "name": "stderr",
     "output_type": "stream",
     "text": [
      "WARNING:root:The '<function exponential at 0x00000229C510AD40>' activation function of the layer 'spectral_dense_11' is not recommended. For practical purposes, we recommend to use deel lip activation functions instead such as GroupSort2.\n",
      "\n"
     ]
    },
    {
     "name": "stdout",
     "output_type": "stream",
     "text": [
      "elu\n",
      "313/313 [==============================] - 0s 641us/step\n"
     ]
    },
    {
     "name": "stderr",
     "output_type": "stream",
     "text": [
      "WARNING:root:The '<function elu at 0x00000229C5109E10>' activation function of the layer 'spectral_dense_14' is not recommended. For practical purposes, we recommend to use deel lip activation functions instead such as GroupSort2.\n",
      "\n"
     ]
    },
    {
     "name": "stdout",
     "output_type": "stream",
     "text": [
      "selu\n",
      "313/313 [==============================] - 0s 615us/step\n"
     ]
    },
    {
     "name": "stderr",
     "output_type": "stream",
     "text": [
      "WARNING:root:The '<function selu at 0x00000229C5109FC0>' activation function of the layer 'spectral_dense_17' is not recommended. For practical purposes, we recommend to use deel lip activation functions instead such as GroupSort2.\n",
      "\n"
     ]
    },
    {
     "name": "stdout",
     "output_type": "stream",
     "text": [
      "tanh\n",
      "313/313 [==============================] - 0s 640us/step\n"
     ]
    },
    {
     "name": "stderr",
     "output_type": "stream",
     "text": [
      "WARNING:root:The '<function tanh at 0x00000229C510A9E0>' activation function of the layer 'spectral_dense_20' is not recommended. For practical purposes, we recommend to use deel lip activation functions instead such as GroupSort2.\n",
      "\n"
     ]
    },
    {
     "name": "stdout",
     "output_type": "stream",
     "text": [
      "sigmoid\n",
      "313/313 [==============================] - 0s 642us/step\n"
     ]
    },
    {
     "name": "stderr",
     "output_type": "stream",
     "text": [
      "WARNING:root:The '<function sigmoid at 0x00000229C510AB90>' activation function of the layer 'spectral_dense_23' is not recommended. For practical purposes, we recommend to use deel lip activation functions instead such as GroupSort2.\n",
      "\n"
     ]
    },
    {
     "name": "stdout",
     "output_type": "stream",
     "text": [
      "softplus\n",
      "313/313 [==============================] - 0s 651us/step\n"
     ]
    },
    {
     "name": "stderr",
     "output_type": "stream",
     "text": [
      "WARNING:root:The '<function softplus at 0x00000229C510A170>' activation function of the layer 'spectral_dense_26' is not recommended. For practical purposes, we recommend to use deel lip activation functions instead such as GroupSort2.\n",
      "\n"
     ]
    },
    {
     "name": "stdout",
     "output_type": "stream",
     "text": [
      "softsign\n",
      "313/313 [==============================] - 0s 648us/step\n"
     ]
    },
    {
     "name": "stderr",
     "output_type": "stream",
     "text": [
      "WARNING:root:The '<function softsign at 0x00000229C510A320>' activation function of the layer 'spectral_dense_29' is not recommended. For practical purposes, we recommend to use deel lip activation functions instead such as GroupSort2.\n",
      "\n"
     ]
    }
   ],
   "source": [
    "for i in range(0,len(keras_activation_functions_names)):\n",
    "    activation_function_name=keras_activation_functions_names[i]\n",
    "    print(activation_function_name)\n",
    "    inputs = keras.layers.Input(input_shape)\n",
    "    x = keras.layers.Flatten()(inputs)\n",
    "    x = lip.layers.SpectralDense(64, activation=activation_function_name)(x)\n",
    "    x = lip.layers.SpectralDense(32)(x)\n",
    "    y = lip.layers.SpectralDense(num_classes)(x)\n",
    "    model = lip.model.Model(inputs=inputs, outputs=y)\n",
    "    \n",
    "    \n",
    "    get_certificate(model,X_test)"
   ]
  },
  {
   "cell_type": "markdown",
   "id": "9fcad34b-e7c1-43a3-9f0a-144bf05bdaf8",
   "metadata": {},
   "source": [
    "#### A keras activation layer is used"
   ]
  },
  {
   "cell_type": "code",
   "execution_count": 25,
   "id": "f088204e-1efc-465d-82b6-4a9ffd8c6d25",
   "metadata": {},
   "outputs": [],
   "source": [
    "keras_activation_layers=[tf.keras.layers.ReLU(),tf.keras.layers.PReLU(), tf.keras.layers.LeakyReLU(), tf.keras.layers.ELU(), tf.keras.layers.ThresholdedReLU()]"
   ]
  },
  {
   "cell_type": "code",
   "execution_count": 26,
   "id": "40602c8d-38ab-4759-88e7-3378afefbfce",
   "metadata": {
    "scrolled": true
   },
   "outputs": [
    {
     "name": "stdout",
     "output_type": "stream",
     "text": [
      "<keras.src.layers.activation.relu.ReLU object at 0x00000229C8487C10>\n",
      "313/313 [==============================] - 0s 633us/step\n"
     ]
    },
    {
     "name": "stderr",
     "output_type": "stream",
     "text": [
      "WARNING:root:The layer 're_lu' is not recommended. For practical purposes, we recommend to use deel lip activation layer instead such as GroupSort2.\n",
      "\n"
     ]
    },
    {
     "name": "stdout",
     "output_type": "stream",
     "text": [
      "<keras.src.layers.activation.prelu.PReLU object at 0x00000229C88B1990>\n",
      " 53/313 [====>.........................] - ETA: 0s "
     ]
    },
    {
     "name": "stderr",
     "output_type": "stream",
     "text": [
      "c:\\users\\kierszbaums\\sandbox\\deel_lip\\documentation\\sharing-sam-work\\deel-lip\\deel\\lip\\model.py:75: UserWarning: Sequential model contains a layer which is not a 1-Lipschitz layer: p_re_lu\n",
      "  warn(_msg_not_lip.format(layer.name))\n"
     ]
    },
    {
     "name": "stdout",
     "output_type": "stream",
     "text": [
      "313/313 [==============================] - 0s 670us/step\n",
      "<keras.src.layers.activation.leaky_relu.LeakyReLU object at 0x00000229C88B1A50>\n",
      " 71/313 [=====>........................] - ETA: 0s "
     ]
    },
    {
     "name": "stderr",
     "output_type": "stream",
     "text": [
      "c:\\users\\kierszbaums\\sandbox\\deel_lip\\documentation\\sharing-sam-work\\deel-lip\\deel\\lip\\model.py:75: UserWarning: Sequential model contains a layer which is not a 1-Lipschitz layer: leaky_re_lu\n",
      "  warn(_msg_not_lip.format(layer.name))\n"
     ]
    },
    {
     "name": "stdout",
     "output_type": "stream",
     "text": [
      "313/313 [==============================] - 0s 598us/step\n",
      "NotLipschtzLayerError raised: The layer 'leaky_re_lu' is not supported\n",
      "<keras.src.layers.activation.elu.ELU object at 0x00000229C88B1450>\n",
      " 64/313 [=====>........................] - ETA: 0s "
     ]
    },
    {
     "name": "stderr",
     "output_type": "stream",
     "text": [
      "c:\\users\\kierszbaums\\sandbox\\deel_lip\\documentation\\sharing-sam-work\\deel-lip\\deel\\lip\\model.py:75: UserWarning: Sequential model contains a layer which is not a 1-Lipschitz layer: elu\n",
      "  warn(_msg_not_lip.format(layer.name))\n"
     ]
    },
    {
     "name": "stdout",
     "output_type": "stream",
     "text": [
      "313/313 [==============================] - 0s 678us/step\n",
      "NotLipschtzLayerError raised: The layer 'elu' is not supported\n",
      "<keras.src.layers.activation.thresholded_relu.ThresholdedReLU object at 0x00000229C875B9D0>\n",
      "  1/313 [..............................] - ETA: 19s"
     ]
    },
    {
     "name": "stderr",
     "output_type": "stream",
     "text": [
      "c:\\users\\kierszbaums\\sandbox\\deel_lip\\documentation\\sharing-sam-work\\deel-lip\\deel\\lip\\model.py:75: UserWarning: Sequential model contains a layer which is not a 1-Lipschitz layer: thresholded_re_lu\n",
      "  warn(_msg_not_lip.format(layer.name))\n"
     ]
    },
    {
     "name": "stdout",
     "output_type": "stream",
     "text": [
      "313/313 [==============================] - 0s 591us/step\n",
      "NotLipschtzLayerError raised: The layer 'thresholded_re_lu' is not supported\n"
     ]
    }
   ],
   "source": [
    "for i in range(0,len(keras_activation_layers)):\n",
    "    activation_layer=keras_activation_layers[i]\n",
    "    print(activation_layer)\n",
    "    \n",
    "    model = lip.model.Sequential([    \n",
    "            keras.layers.Input(shape=input_shape),\n",
    "            keras.layers.Flatten(),\n",
    "            lip.layers.SpectralDense(64),\n",
    "            activation_layer,\n",
    "            lip.layers.SpectralDense(32),\n",
    "            lip.layers.SpectralDense(num_classes),\n",
    "        ],\n",
    "    )\n",
    "    \n",
    "    try:\n",
    "        get_certificate(model,X_test)\n",
    "    except Exception as e:\n",
    "        print(\"An error occurred:\", str(e))\n",
    "        print()"
   ]
  },
  {
   "cell_type": "markdown",
   "id": "6040603b-ffed-4798-b053-60ec6a57695b",
   "metadata": {},
   "source": [
    "#### The particular case of using an activation function for the last layer"
   ]
  },
  {
   "cell_type": "code",
   "execution_count": 27,
   "id": "bfb70334-e323-4f0c-baf9-f409bd05c8f7",
   "metadata": {},
   "outputs": [
    {
     "name": "stderr",
     "output_type": "stream",
     "text": [
      "WARNING:root:We recommend avoiding using an activation function for the last layer (here the '<function softmax at 0x00000229C5109C60>' activation function of the layer 'spectral_dense_49').\n",
      "\n"
     ]
    },
    {
     "name": "stdout",
     "output_type": "stream",
     "text": [
      "313/313 [==============================] - 0s 645us/step\n"
     ]
    },
    {
     "data": {
      "text/plain": [
       "array([0.01564271, 0.02961091, 0.02744338, ..., 0.04848304, 0.00385686,\n",
       "       0.07554216])"
      ]
     },
     "execution_count": 27,
     "metadata": {},
     "output_type": "execute_result"
    }
   ],
   "source": [
    "model = lip.model.Sequential([    \n",
    "        keras.layers.Input(shape=input_shape),\n",
    "        keras.layers.Flatten(),\n",
    "        lip.layers.SpectralDense(64),\n",
    "        lip.layers.SpectralDense(32),\n",
    "        lip.layers.SpectralDense(num_classes, activation='softmax'),\n",
    "    ],\n",
    ")\n",
    "\n",
    "\n",
    "get_certificate(model,X_test)\n"
   ]
  },
  {
   "cell_type": "markdown",
   "id": "16c2349b-e7be-40e4-baa6-ba229756f869",
   "metadata": {},
   "source": [
    "#### Things that are not clear yet"
   ]
  },
  {
   "cell_type": "markdown",
   "id": "c5f9a2d0-5e78-4c89-b14b-c900f82caa90",
   "metadata": {},
   "source": [
    "The p_re_lu function.\n",
    "\n"
   ]
  },
  {
   "cell_type": "markdown",
   "id": "92280bfc-b0e2-44c8-8370-e32260dcdc24",
   "metadata": {},
   "source": [
    "Lip throws the following warning"
   ]
  },
  {
   "cell_type": "raw",
   "id": "e65caa68-e752-4171-980a-959453a4cb22",
   "metadata": {},
   "source": [
    ":\\users\\kierszbaums\\sandbox\\deel_lip\\documentation\\sharing-sam-work\\deel-lip\\deel\\lip\\model.py:75: UserWarning: Sequential model contains a layer which is not a 1-Lipschitz layer: p_re_lu\n",
    "  warn(_msg_not_lip.format(layer.name))"
   ]
  },
  {
   "cell_type": "markdown",
   "id": "90d7b660-4a28-4307-8f1a-3b0455588b47",
   "metadata": {},
   "source": [
    "lip.layers.PReLUlip() is the same as its keras counterpart. We choose to consider it as a \"supported_neutral_layer\"."
   ]
  }
 ],
 "metadata": {
  "kernelspec": {
   "display_name": "Python 3 (ipykernel)",
   "language": "python",
   "name": "python3"
  },
  "language_info": {
   "codemirror_mode": {
    "name": "ipython",
    "version": 3
   },
   "file_extension": ".py",
   "mimetype": "text/x-python",
   "name": "python",
   "nbconvert_exporter": "python",
   "pygments_lexer": "ipython3",
   "version": "3.10.9"
  }
 },
 "nbformat": 4,
 "nbformat_minor": 5
}
